{
 "cells": [
  {
   "cell_type": "code",
   "execution_count": 2,
   "metadata": {},
   "outputs": [],
   "source": [
    "#Q1\n",
    "\n",
    "def km_to_m(km):\n",
    "    return km*1.6"
   ]
  },
  {
   "cell_type": "code",
   "execution_count": 3,
   "metadata": {},
   "outputs": [],
   "source": [
    "#Q2\n",
    "\n",
    "def c_to_f(c):\n",
    "    return ((9/5)*c)+32"
   ]
  },
  {
   "cell_type": "code",
   "execution_count": 7,
   "metadata": {},
   "outputs": [],
   "source": [
    "#Q3\n",
    "\n",
    "import calendar\n",
    "def display_calendar(x,y):\n",
    "    return print(calendar.month(x, y))"
   ]
  },
  {
   "cell_type": "code",
   "execution_count": 30,
   "metadata": {},
   "outputs": [],
   "source": [
    "#Q4\n",
    "\n",
    "def quadratic_soln(a,b,c):\n",
    "    if b**2-4*a*c>=0:\n",
    "        soln=(-b+(b**2-4*a*c)**0.5)/(2*a),(-b-(b**2-4*a*c)**0.5)/(2*a)\n",
    "    else:\n",
    "        soln='quadratic equation does not have real solutions'\n",
    "    return soln"
   ]
  },
  {
   "cell_type": "code",
   "execution_count": 32,
   "metadata": {},
   "outputs": [],
   "source": [
    "#Q5\n",
    "\n",
    "def swap_fn(x,y):\n",
    "    return y,x"
   ]
  }
 ],
 "metadata": {
  "kernelspec": {
   "display_name": "Python 3",
   "language": "python",
   "name": "python3"
  },
  "language_info": {
   "codemirror_mode": {
    "name": "ipython",
    "version": 3
   },
   "file_extension": ".py",
   "mimetype": "text/x-python",
   "name": "python",
   "nbconvert_exporter": "python",
   "pygments_lexer": "ipython3",
   "version": "3.8.5"
  }
 },
 "nbformat": 4,
 "nbformat_minor": 4
}
