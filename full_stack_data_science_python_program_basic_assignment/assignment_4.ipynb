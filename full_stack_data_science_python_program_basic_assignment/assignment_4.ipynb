{
 "cells": [
  {
   "cell_type": "code",
   "execution_count": 3,
   "metadata": {},
   "outputs": [],
   "source": [
    "#Q1\n",
    "\n",
    "def factiroial(x):\n",
    "    factorial=1\n",
    "    for i in range(1,x+1):\n",
    "        factorial=factorial*i\n",
    "    return factorial"
   ]
  },
  {
   "cell_type": "code",
   "execution_count": null,
   "metadata": {},
   "outputs": [],
   "source": [
    "#Q2\n",
    "\n",
    "#Replace x with the table you want to see and y with till how many numbers you want to see the table.\n",
    "# Default x=2, y=10\n",
    "x=20\n",
    "y=500\n",
    "\n",
    "for i in range(1,y+1):\n",
    "    print(\"{} x {} = {}\".format(x,i,x*i))"
   ]
  },
  {
   "cell_type": "code",
   "execution_count": 14,
   "metadata": {},
   "outputs": [],
   "source": [
    "#Q3\n",
    "#printing upto 10 in the sequence. change value of y according to required length\n",
    "y=10\n",
    "for i in range(1,10):\n",
    "    a1=1\n",
    "    a2=1\n",
    "    "
   ]
  },
  {
   "cell_type": "code",
   "execution_count": null,
   "metadata": {},
   "outputs": [],
   "source": [
    "#Q4\n",
    "\n",
    "fibo_dict={'a1':1,'a2':1}\n",
    "\n",
    "for i in range(3,25):#change the value of 25 according to the length upto which the sequence is required\n",
    "    fibo_dict['a{}'.format(i)]=fibo_dict['a{}'.format(i-1)]+fibo_dict['a{}'.format(i-2)]\n",
    "\n",
    "for i in fibo_dict.values():\n",
    "    print(i)"
   ]
  },
  {
   "cell_type": "code",
   "execution_count": 31,
   "metadata": {},
   "outputs": [],
   "source": [
    "#Q5 \n",
    "\n",
    "def armstrong_check(x):\n",
    "    final_no=int(x)\n",
    "    string_no=str(final_no)\n",
    "    armstrong_dict={}\n",
    "    for i in range(len(string_no)):\n",
    "        armstrong_dict[string_no[i]]=int(string_no[i])**int(string_no[len(string_no)-1])\n",
    "        \n",
    "    lhs=''\n",
    "    rhs=0\n",
    "    for key,value in armstrong_dict.items():\n",
    "        lhs=lhs+key\n",
    "        rhs=rhs+value\n",
    "        \n",
    "    if int(lhs)==rhs:\n",
    "        y='Armstrong Number'\n",
    "    else:\n",
    "        y='Not Armstrong Number'\n",
    "        \n",
    "    return y"
   ]
  },
  {
   "cell_type": "code",
   "execution_count": null,
   "metadata": {},
   "outputs": [],
   "source": [
    "#Q6\n",
    "\n",
    "sum([i for i in range(1,y+1)])#replace y with the desired natural number"
   ]
  },
  {
   "cell_type": "code",
   "execution_count": null,
   "metadata": {},
   "outputs": [],
   "source": []
  },
  {
   "cell_type": "code",
   "execution_count": null,
   "metadata": {},
   "outputs": [],
   "source": []
  }
 ],
 "metadata": {
  "kernelspec": {
   "display_name": "Python 3",
   "language": "python",
   "name": "python3"
  },
  "language_info": {
   "codemirror_mode": {
    "name": "ipython",
    "version": 3
   },
   "file_extension": ".py",
   "mimetype": "text/x-python",
   "name": "python",
   "nbconvert_exporter": "python",
   "pygments_lexer": "ipython3",
   "version": "3.8.5"
  }
 },
 "nbformat": 4,
 "nbformat_minor": 4
}
