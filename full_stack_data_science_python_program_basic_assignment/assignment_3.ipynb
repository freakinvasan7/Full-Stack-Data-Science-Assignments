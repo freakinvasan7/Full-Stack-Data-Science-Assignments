{
 "cells": [
  {
   "cell_type": "code",
   "execution_count": 1,
   "metadata": {},
   "outputs": [],
   "source": [
    "#Q1\n",
    "\n",
    "def pos_neg_check(x):\n",
    "    if x<0:\n",
    "        y='Negative'\n",
    "    elif x>0:\n",
    "        y='Positive'\n",
    "    else:\n",
    "        y='Zero'\n",
    "    return y"
   ]
  },
  {
   "cell_type": "code",
   "execution_count": 6,
   "metadata": {},
   "outputs": [],
   "source": [
    "#Q2\n",
    "\n",
    "def odd_even_fn(c):\n",
    "    if c%2==0:\n",
    "        y='Even'\n",
    "    else:\n",
    "        y='Odd'\n",
    "    return y"
   ]
  },
  {
   "cell_type": "code",
   "execution_count": 14,
   "metadata": {},
   "outputs": [],
   "source": [
    "#Q3\n",
    "\n",
    "import calendar\n",
    "def leap_year_fn(x):\n",
    "    if x%4==0:\n",
    "        y='Leap Year'\n",
    "    else:\n",
    "        y='Not Leap Year'\n",
    "    return (y)"
   ]
  },
  {
   "cell_type": "code",
   "execution_count": null,
   "metadata": {},
   "outputs": [],
   "source": []
  },
  {
   "cell_type": "code",
   "execution_count": 52,
   "metadata": {},
   "outputs": [],
   "source": [
    "#Q4\n",
    "\n",
    "def prime_no(x):\n",
    "    if x in [0,1]:\n",
    "        y=' Neither prime nor Composite'\n",
    "    elif x<0:\n",
    "        y='Negative number, cannot be prime'\n",
    "    else:\n",
    "        half=int(x/2)\n",
    "        rems=[x%i for i in range(2,int(x/2)+1)]\n",
    "        if 0 in rems:\n",
    "            y='Composite'\n",
    "        else:\n",
    "            y='Prime'\n",
    "    return y"
   ]
  },
  {
   "cell_type": "code",
   "execution_count": null,
   "metadata": {},
   "outputs": [],
   "source": [
    "#Q5 1-10k\n",
    "\n",
    "def prime_no(x):\n",
    "    if x in [0,1]:\n",
    "        y=' Neither prime nor Composite'\n",
    "    else:\n",
    "        half=int(x/2)\n",
    "        rems=[x%i for i in range(2,int(x/2)+1)]\n",
    "        if 0 in rems:\n",
    "            y='Composite'\n",
    "        else:\n",
    "            y='Prime'\n",
    "    return y\n",
    "\n",
    "[i for i in range(1,10000) if prime_no(i)=='Prime']"
   ]
  }
 ],
 "metadata": {
  "kernelspec": {
   "display_name": "Python 3",
   "language": "python",
   "name": "python3"
  },
  "language_info": {
   "codemirror_mode": {
    "name": "ipython",
    "version": 3
   },
   "file_extension": ".py",
   "mimetype": "text/x-python",
   "name": "python",
   "nbconvert_exporter": "python",
   "pygments_lexer": "ipython3",
   "version": "3.8.5"
  }
 },
 "nbformat": 4,
 "nbformat_minor": 4
}
