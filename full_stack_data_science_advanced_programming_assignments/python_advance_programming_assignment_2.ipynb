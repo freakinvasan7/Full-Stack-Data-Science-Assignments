{
 "cells": [
  {
   "cell_type": "code",
   "execution_count": 47,
   "metadata": {},
   "outputs": [],
   "source": [
    "#Q1\n",
    "\n",
    "def pentagonal_dots(num):\n",
    "    if num <= 0:\n",
    "        return \"Input must be a positive integer\"\n",
    "    \n",
    "    dots = int((5 * num ** 2 - 5 * num + 2)/2)\n",
    "    return dots"
   ]
  },
  {
   "cell_type": "code",
   "execution_count": 9,
   "metadata": {},
   "outputs": [],
   "source": [
    "#Q2\n",
    "import regex as re\n",
    "def encrypt(abc):\n",
    "    code_1=abc[::-1]\n",
    "    code_2=re.sub(r\"a\",'0',code_1)\n",
    "    code_3=re.sub(r\"e\",'1',code_2)\n",
    "    code_4=re.sub(r\"i\",'2',code_3)\n",
    "    code_5=re.sub(r\"o\",'2',code_4)\n",
    "    code_6=re.sub(r\"u\",'3',code_5)\n",
    "    coded=code_6+'aca'\n",
    "    return coded"
   ]
  },
  {
   "cell_type": "code",
   "execution_count": 19,
   "metadata": {},
   "outputs": [],
   "source": [
    "#Q3\n",
    "import datetime\n",
    "def is_friday_13(month, year):\n",
    "    date_object = datetime.date(year, month, 13)\n",
    "    if date_object.weekday()==4:\n",
    "        y=True\n",
    "    else:\n",
    "        y=False\n",
    "    return y"
   ]
  },
  {
   "cell_type": "code",
   "execution_count": null,
   "metadata": {},
   "outputs": [],
   "source": [
    "#Q4\n",
    "lst=['bad cookie','good cookie','bad cookie','good cookie','good cookie']\n",
    "pattern='bad cookie'\n",
    "len(re.findall(pattern,','.join(lst)))"
   ]
  },
  {
   "cell_type": "code",
   "execution_count": null,
   "metadata": {},
   "outputs": [],
   "source": [
    "#Q4\n",
    "lst=['bad cookie','good cookie','bad cookie','good cookie','good cookie']\n",
    "pattern='bad cookie'\n",
    "len(re.findall(pattern,','.join(lst)))"
   ]
  },
  {
   "cell_type": "code",
   "execution_count": 39,
   "metadata": {},
   "outputs": [],
   "source": [
    "#Q5\n",
    "def pluralize(items):\n",
    "    uniques=set(items)\n",
    "    plural=[]\n",
    "    for i in uniques:\n",
    "        counter=0\n",
    "        for j in items:\n",
    "            if i==j:\n",
    "                counter+=1\n",
    "            else:\n",
    "                continue\n",
    "        if counter>=2:\n",
    "            plural.append(i+'s')\n",
    "        else:\n",
    "            plural.append(i)\n",
    "    return set(plural)"
   ]
  }
 ],
 "metadata": {
  "kernelspec": {
   "display_name": "Python 3",
   "language": "python",
   "name": "python3"
  },
  "language_info": {
   "codemirror_mode": {
    "name": "ipython",
    "version": 3
   },
   "file_extension": ".py",
   "mimetype": "text/x-python",
   "name": "python",
   "nbconvert_exporter": "python",
   "pygments_lexer": "ipython3",
   "version": "3.8.5"
  }
 },
 "nbformat": 4,
 "nbformat_minor": 4
}
