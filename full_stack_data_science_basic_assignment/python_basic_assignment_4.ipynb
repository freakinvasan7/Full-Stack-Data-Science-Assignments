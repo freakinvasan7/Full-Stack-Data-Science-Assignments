{
 "cells": [
  {
   "cell_type": "markdown",
   "metadata": {},
   "source": [
    "#Q1 What exactly is [] ?\n",
    "\n",
    "Ans. An empty list"
   ]
  },
  {
   "cell_type": "markdown",
   "metadata": {},
   "source": [
    "#Q2 In a list of values stored in a variable called spam, how would you assign the value 'hello' as the\n",
    "third value? (Assume [2, 4, 6, 8, 10] are in spam.)\n",
    "Ans. spam[2] = 'hello'"
   ]
  },
  {
   "cell_type": "markdown",
   "metadata": {},
   "source": [
    "spam=['a','b','c','d']\n",
    "\n",
    "#Q3 What is the value of spam[int(int('3'* 2) / 11)]?\n",
    "Ans. 'd'\n",
    "\n",
    "#Q4 What is the value of spam[-1]?\n",
    "Ans. 'd'\n",
    "\n",
    "#Q5 What is the value of spam[:2]?\n",
    "Ans. ['a', 'b']"
   ]
  },
  {
   "cell_type": "markdown",
   "metadata": {},
   "source": [
    "bacon=[3.14,'cat',11,'cat',True]\n",
    "\n",
    "#Q6 What is the value of bacon.index('cat')?\n",
    "Ans. 1\n",
    "\n",
    "#Q7 How does bacon.append(99) change the look of the list value in bacon?\n",
    "Ans. [3.14, 'cat', 11, 'cat', True, 99]\n",
    "\n",
    "#Q8 How does bacon.remove('cat') change the look of the list in bacon?\n",
    "Ans. [3.14, 11, 'cat', True] if q7 and q8 are mutually exclusive.\n",
    "[3.14, 11, 'cat', True, 99] if the statement from q8 is executed after the statement from q7."
   ]
  },
  {
   "cell_type": "markdown",
   "metadata": {},
   "source": [
    "#Q9 What are the list concatenation and list replication operators?\n",
    "Ans. List concatenation is done with + and replication with *."
   ]
  },
  {
   "cell_type": "markdown",
   "metadata": {},
   "source": [
    "#Q10 What is difference between the list methods append() and insert()?\n",
    "Ans. The append() method is used to add a single element to the end of a list.\n",
    "The insert() method is used to insert a single element at a specific position in the list. It takes two arguments: the index at which the element should be inserted, and the value to be inserted."
   ]
  },
  {
   "cell_type": "markdown",
   "metadata": {},
   "source": [
    "#Q11 What are the two methods for removing items from a list?\n",
    "Ans. The remove() method is used to remove the first occurrence of a specified value from the list.\n",
    "The pop() method is used to remove and return an element from a specific index in the list."
   ]
  },
  {
   "cell_type": "markdown",
   "metadata": {},
   "source": [
    "#Q12 Describe how list values and string values are identical.\n",
    "Ans. Both lists and strings are sequential data types, meaning that their elements are ordered and can be accessed by their position (index).\n",
    "Elements in both lists and strings can be accessed using square bracket notation with indices.\n",
    "Both lists and strings support slicing, allowing you to extract a portion of the sequence.\n",
    "Both lists and strings can be iterated over using loops.\n",
    "Both lists and strings support the in operator to check for the existence of an element."
   ]
  },
  {
   "cell_type": "markdown",
   "metadata": {},
   "source": [
    "#Q13 What's the difference between tuples and lists?\n",
    "Ans. Lists: Lists are mutable, meaning their elements can be modified after the list is created. You can add, remove, or modify elements in a list.\n",
    "Tuples are immutable, meaning once they are created, their elements cannot be changed or modified. You cannot add, remove, or modify elements in a tuple.\n",
    "\n",
    "Lists: Lists are created using square brackets [].\n",
    "Tuples: Tuples are created using parentheses ().\n",
    "\n",
    "Lists have more built-in methods compared to tuples, partly because lists are mutable."
   ]
  },
  {
   "cell_type": "markdown",
   "metadata": {},
   "source": [
    "#Q14 How do you type a tuple value that only contains the integer 42?\n",
    "Ans. (42,)"
   ]
  },
  {
   "cell_type": "markdown",
   "metadata": {},
   "source": [
    "#Q15 How do you get a list value's tuple form? How do you get a tuple value's list form?\n",
    "Ans. List value from tuple for tuple myx: list(myx)\n",
    "Tuple value from list for list myx: tuple(myx)"
   ]
  },
  {
   "cell_type": "markdown",
   "metadata": {},
   "source": [
    "#Q16 Variables that 'contain' list values are not necessarily lists themselves. Instead, what do they contain?\n",
    "Ans. Variables that \"contain\" list values actually store references to lists rather than the lists themselves. These variables are references or pointers to the memory location where the list is stored.\n",
    "When you assign a list to a variable, you are storing the reference to the list in that variable. This reference points to the actual location in memory where the list is stored. It means that if you assign the same list to multiple variables, they all reference the same underlying list object."
   ]
  },
  {
   "cell_type": "markdown",
   "metadata": {},
   "source": [
    "#Q17 How do you distinguish between copy.copy() and copy.deepcopy()?\n",
    "Ans. The copy.copy() function creates a shallow copy of the object. It copies the top-level structure of the object, but not the nested objects within it.\n",
    "If the original object contains references to other objects, the shallow copy will share references to the same nested objects as the original.\n",
    "\n",
    "The copy.deepcopy() function creates a deep copy of the object. It recursively copies the entire object along with all nested objects, ensuring that the copy is fully independent of the original.\n",
    "Even if the original object contains nested structures, a deep copy ensures that changes to the original do not affect the copy, and vice versa."
   ]
  }
 ],
 "metadata": {
  "kernelspec": {
   "display_name": "Python 3",
   "language": "python",
   "name": "python3"
  },
  "language_info": {
   "codemirror_mode": {
    "name": "ipython",
    "version": 3
   },
   "file_extension": ".py",
   "mimetype": "text/x-python",
   "name": "python",
   "nbconvert_exporter": "python",
   "pygments_lexer": "ipython3",
   "version": "3.8.5"
  }
 },
 "nbformat": 4,
 "nbformat_minor": 4
}
