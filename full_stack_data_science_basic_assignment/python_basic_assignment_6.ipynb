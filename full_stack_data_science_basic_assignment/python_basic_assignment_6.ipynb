{
 "cells": [
  {
   "cell_type": "raw",
   "metadata": {},
   "source": [
    "#Q1 What are escape characters, and how do you use them?\n",
    "\n",
    "Ans. Escape characters are characters which allow us to use those characters in a string which otherwise are not allowed to be used in a string.\n",
    "All escape characters stars with \\"
   ]
  },
  {
   "cell_type": "raw",
   "metadata": {},
   "source": [
    "#Q2 What do the escape characters n and t stand for?\n",
    "Ans. \\n is a new line and \\t is a tab."
   ]
  },
  {
   "cell_type": "raw",
   "metadata": {},
   "source": [
    "#Q3 What is the way to include backslash characters in a string?\n",
    "Ans. \\\\"
   ]
  },
  {
   "cell_type": "raw",
   "metadata": {},
   "source": [
    "#Q4 The string \"Howl's Moving Castle\" is a correct value. Why isn't the single quote character in the\n",
    "word Howl's not escaped a problem?\n",
    "Ans. The string here is enclosed by double quotes which is why using single quote inside the string is allowed."
   ]
  },
  {
   "cell_type": "raw",
   "metadata": {},
   "source": [
    "#Q5 How do you write a string of newlines if you don't want to use the n character?\n",
    "Ans. If we enclose the whole string in triple quotes ie ''' or \"\"\" then we don't require \\n to go to a new line."
   ]
  },
  {
   "cell_type": "raw",
   "metadata": {},
   "source": [
    "#Q6 What are the values of the given expressions?\n",
    "'Hello, world!'[1]- 'e'\n",
    "'Hello, world!'[0:5]- 'Hello'\n",
    "'Hello, world!'[:5]- 'Hello'\n",
    "'Hello, world!'[3:]-'lo, world!'"
   ]
  },
  {
   "cell_type": "raw",
   "metadata": {},
   "source": [
    "#Q7 What are the values of the following expressions?\n",
    "'Hello'.upper()-'HELLO'\n",
    "'Hello'.upper().isupper()-True\n",
    "'Hello'.upper().lower()- 'hello'"
   ]
  },
  {
   "cell_type": "raw",
   "metadata": {},
   "source": [
    "#Q8 What are the values of the following expressions?\n",
    "'Remember, remember, the fifth of July.'.split()- ['Remember,', 'remember,', 'the', 'fifth', 'of', 'July.']\n",
    "'-'.join('There can only one.'.split())- 'There-can-only-one.'\n",
    "\n"
   ]
  },
  {
   "cell_type": "raw",
   "metadata": {},
   "source": [
    "#Q9 What are the methods for right-justifying, left-justifying, and centering a string?\n",
    "Ans. right-justifying- string.rjust()\n",
    "left-justifying- string.ljust()\n",
    "cantering- string.centre()"
   ]
  },
  {
   "cell_type": "raw",
   "metadata": {},
   "source": [
    "#Q10 What is the best way to remove whitespace characters from the start or end?\n",
    "Ans. string.strip()"
   ]
  }
 ],
 "metadata": {
  "kernelspec": {
   "display_name": "Python 3",
   "language": "python",
   "name": "python3"
  },
  "language_info": {
   "codemirror_mode": {
    "name": "ipython",
    "version": 3
   },
   "file_extension": ".py",
   "mimetype": "text/x-python",
   "name": "python",
   "nbconvert_exporter": "python",
   "pygments_lexer": "ipython3",
   "version": "3.8.5"
  }
 },
 "nbformat": 4,
 "nbformat_minor": 4
}
