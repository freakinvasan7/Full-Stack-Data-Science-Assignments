{
 "cells": [
  {
   "cell_type": "markdown",
   "metadata": {},
   "source": [
    "#Q1 Why are functions advantageous to have in your programs?\n",
    "\n",
    "Ans. Functions allow us to easily break down the whole program into smaller modular chunks making it easier to understand the code for anyone and not only the original writer of the code."
   ]
  },
  {
   "cell_type": "markdown",
   "metadata": {},
   "source": [
    "#Q2 When does the code in a function run: when it's specified or when it's called?\n",
    "Ans. The function would run when it is called. When a function is specified it is defined for the first time in a notebook or environment. Once defined completely we can call it at any point in the environment to perform the desired operation which is when it will run."
   ]
  },
  {
   "cell_type": "markdown",
   "metadata": {},
   "source": [
    "#Q3 What statement creates a function?\n",
    "Ans. def"
   ]
  },
  {
   "cell_type": "markdown",
   "metadata": {},
   "source": [
    "#Q4 What is the difference between a function and a function call?\n",
    "Ans. A function in Python is a block of reusable code that performs a specific task.\n",
    "A function call is an expression that invokes a function. To call a function in Python, you simply write the function name along with the required parameters in brackets."
   ]
  },
  {
   "cell_type": "markdown",
   "metadata": {},
   "source": [
    "#Q5 How many global scopes are there in a Python program? How many local scopes?\n",
    "Ans. there is one global scope for each program. The global scope is the outermost scope, and variables defined at this level are considered global variables. Global variables are accessible throughout the entire program.\n",
    "Local scopes, on the other hand, are created whenever a function is called. Each function call creates its own local scope. Variables defined within a function are local to that function and cannot be directly accessed from outside the function.\n",
    "\n",
    "The number of local scopes depends on the number of function calls made in the program. Each function call creates its own local scope."
   ]
  },
  {
   "cell_type": "markdown",
   "metadata": {},
   "source": [
    "#Q6 What happens to variables in a local scope when the function call returns?\n",
    "Ans. When a function call in Python returns, the local scope associated with that function is destroyed, and any variables defined within that scope stop existing."
   ]
  },
  {
   "cell_type": "markdown",
   "metadata": {},
   "source": [
    "#Q7 What is the concept of a return value? Is it possible to have a return value in an expression?\n",
    "Ans. The concept of a return value refers to the value that a function provides as output when it is called.\n",
    "Yes it is possible to use the return value as part of an expression which as a feature makes the code easil;y understandable."
   ]
  },
  {
   "cell_type": "markdown",
   "metadata": {},
   "source": [
    "#Q8 If a function does not have a return statement, what is the return value of a call to that function?\n",
    "Ans. If a function in Python does not have a return statement the function automatically returns a value called None."
   ]
  },
  {
   "cell_type": "markdown",
   "metadata": {},
   "source": [
    "#Q9 How do you make a function variable refer to the global variable?\n",
    "Ans. By using the 'global' keyword. Whichever variable you decide to be a global variable inside the function for example variable ax is global then we just define our function\n",
    "def abc_function:\n",
    "    global ax"
   ]
  },
  {
   "cell_type": "markdown",
   "metadata": {},
   "source": [
    "#Q10 What is the data type of None?\n",
    "Ans. NoneType"
   ]
  },
  {
   "cell_type": "markdown",
   "metadata": {},
   "source": [
    "#Q11 What does the sentence import areallyourpetsnamederic do?\n",
    "Ans. This would bring in the referred external package or module into your code."
   ]
  },
  {
   "cell_type": "markdown",
   "metadata": {},
   "source": [
    "#Q12 If you had a bacon() feature in a spam module, what would you call it after importing spam?\n",
    "Ans. spam.bacon()"
   ]
  },
  {
   "cell_type": "markdown",
   "metadata": {},
   "source": [
    "#Q13 What can you do to save a programme from crashing if it encounters an error?\n",
    "Ans. We will use try, except statements in the code."
   ]
  },
  {
   "cell_type": "markdown",
   "metadata": {},
   "source": [
    "#Q14 What is the purpose of the try clause? What is the purpose of the except clause?\n",
    "Ans. The try block contains the code that might raise an exception.\n",
    "The except block catches specific errors and handles them."
   ]
  }
 ],
 "metadata": {
  "kernelspec": {
   "display_name": "Python 3",
   "language": "python",
   "name": "python3"
  },
  "language_info": {
   "codemirror_mode": {
    "name": "ipython",
    "version": 3
   },
   "file_extension": ".py",
   "mimetype": "text/x-python",
   "name": "python",
   "nbconvert_exporter": "python",
   "pygments_lexer": "ipython3",
   "version": "3.8.5"
  }
 },
 "nbformat": 4,
 "nbformat_minor": 4
}
